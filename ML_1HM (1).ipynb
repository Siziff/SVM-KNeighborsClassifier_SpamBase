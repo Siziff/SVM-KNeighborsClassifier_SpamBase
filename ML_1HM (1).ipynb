{
  "nbformat": 4,
  "nbformat_minor": 0,
  "metadata": {
    "colab": {
      "name": "ML_1HM.ipynb",
      "provenance": [],
      "collapsed_sections": []
    },
    "kernelspec": {
      "name": "python3",
      "display_name": "Python 3"
    },
    "accelerator": "GPU"
  },
  "cells": [
    {
      "cell_type": "code",
      "metadata": {
        "id": "flZSOpG3eNli"
      },
      "source": [
        "import pandas as pd\n",
        "import numpy as np\n",
        "import matplotlib.pyplot as plt\n",
        "from sklearn.preprocessing import StandardScaler\n",
        "from sklearn.model_selection import train_test_split\n",
        "from sklearn.svm import SVC\n",
        "from sklearn.neighbors import KNeighborsClassifier"
      ],
      "execution_count": 66,
      "outputs": []
    },
    {
      "cell_type": "code",
      "metadata": {
        "id": "iqP3DEYV6me0",
        "outputId": "5e156c8f-f332-409f-e6b9-bf30d4eb50fb",
        "colab": {
          "base_uri": "https://localhost:8080/",
          "height": 214
        }
      },
      "source": [
        "cols = ['word_freq_make', 'word_freq_address', 'word_freq_all', 'word_freq_3d', 'word_freq_our', 'word_freq_over', 'word_freq_remove', 'word_freq_internet', 'word_freq_order', 'word_freq_mail', 'word_freq_receive', 'word_freq_will', 'word_freq_people', 'word_freq_report', 'word_freq_addresses', 'word_freq_free', 'word_freq_business', 'word_freq_email', 'word_freq_you', 'word_freq_credit', 'word_freq_your', 'word_freq_font', 'word_freq_000', 'word_freq_money', 'word_freq_hp', 'word_freq_hpl', 'word_freq_george', 'word_freq_650', 'word_freq_lab', 'word_freq_labs', 'word_freq_telnet', 'word_freq_857', 'word_freq_data', 'word_freq_415', 'word_freq_85', 'word_freq_technology', 'word_freq_1999', 'word_freq_parts', 'word_freq_pm', 'word_freq_direct', 'word_freq_cs', 'word_freq_meeting', 'word_freq_original', 'word_freq_project', 'word_freq_re', 'word_freq_edu', 'word_freq_table', 'word_freq_conference', 'char_freq_;', 'char_freq_(', 'char_freq_[', 'char_freq_!', 'char_freq_$', 'char_freq_#', 'capital_run_length_average', 'capital_run_length_longest', 'capital_run_length_total', 'spam']\n",
        "df = pd.read_csv('https://archive.ics.uci.edu/ml/machine-learning-databases/spambase/spambase.data', header=None, names=cols)\n",
        "df.head(5)"
      ],
      "execution_count": 67,
      "outputs": [
        {
          "output_type": "execute_result",
          "data": {
            "text/html": [
              "<div>\n",
              "<style scoped>\n",
              "    .dataframe tbody tr th:only-of-type {\n",
              "        vertical-align: middle;\n",
              "    }\n",
              "\n",
              "    .dataframe tbody tr th {\n",
              "        vertical-align: top;\n",
              "    }\n",
              "\n",
              "    .dataframe thead th {\n",
              "        text-align: right;\n",
              "    }\n",
              "</style>\n",
              "<table border=\"1\" class=\"dataframe\">\n",
              "  <thead>\n",
              "    <tr style=\"text-align: right;\">\n",
              "      <th></th>\n",
              "      <th>word_freq_make</th>\n",
              "      <th>word_freq_address</th>\n",
              "      <th>word_freq_all</th>\n",
              "      <th>word_freq_3d</th>\n",
              "      <th>word_freq_our</th>\n",
              "      <th>word_freq_over</th>\n",
              "      <th>word_freq_remove</th>\n",
              "      <th>word_freq_internet</th>\n",
              "      <th>word_freq_order</th>\n",
              "      <th>word_freq_mail</th>\n",
              "      <th>word_freq_receive</th>\n",
              "      <th>word_freq_will</th>\n",
              "      <th>word_freq_people</th>\n",
              "      <th>word_freq_report</th>\n",
              "      <th>word_freq_addresses</th>\n",
              "      <th>word_freq_free</th>\n",
              "      <th>word_freq_business</th>\n",
              "      <th>word_freq_email</th>\n",
              "      <th>word_freq_you</th>\n",
              "      <th>word_freq_credit</th>\n",
              "      <th>word_freq_your</th>\n",
              "      <th>word_freq_font</th>\n",
              "      <th>word_freq_000</th>\n",
              "      <th>word_freq_money</th>\n",
              "      <th>word_freq_hp</th>\n",
              "      <th>word_freq_hpl</th>\n",
              "      <th>word_freq_george</th>\n",
              "      <th>word_freq_650</th>\n",
              "      <th>word_freq_lab</th>\n",
              "      <th>word_freq_labs</th>\n",
              "      <th>word_freq_telnet</th>\n",
              "      <th>word_freq_857</th>\n",
              "      <th>word_freq_data</th>\n",
              "      <th>word_freq_415</th>\n",
              "      <th>word_freq_85</th>\n",
              "      <th>word_freq_technology</th>\n",
              "      <th>word_freq_1999</th>\n",
              "      <th>word_freq_parts</th>\n",
              "      <th>word_freq_pm</th>\n",
              "      <th>word_freq_direct</th>\n",
              "      <th>word_freq_cs</th>\n",
              "      <th>word_freq_meeting</th>\n",
              "      <th>word_freq_original</th>\n",
              "      <th>word_freq_project</th>\n",
              "      <th>word_freq_re</th>\n",
              "      <th>word_freq_edu</th>\n",
              "      <th>word_freq_table</th>\n",
              "      <th>word_freq_conference</th>\n",
              "      <th>char_freq_;</th>\n",
              "      <th>char_freq_(</th>\n",
              "      <th>char_freq_[</th>\n",
              "      <th>char_freq_!</th>\n",
              "      <th>char_freq_$</th>\n",
              "      <th>char_freq_#</th>\n",
              "      <th>capital_run_length_average</th>\n",
              "      <th>capital_run_length_longest</th>\n",
              "      <th>capital_run_length_total</th>\n",
              "      <th>spam</th>\n",
              "    </tr>\n",
              "  </thead>\n",
              "  <tbody>\n",
              "    <tr>\n",
              "      <th>0</th>\n",
              "      <td>0.00</td>\n",
              "      <td>0.64</td>\n",
              "      <td>0.64</td>\n",
              "      <td>0.0</td>\n",
              "      <td>0.32</td>\n",
              "      <td>0.00</td>\n",
              "      <td>0.00</td>\n",
              "      <td>0.00</td>\n",
              "      <td>0.00</td>\n",
              "      <td>0.00</td>\n",
              "      <td>0.00</td>\n",
              "      <td>0.64</td>\n",
              "      <td>0.00</td>\n",
              "      <td>0.00</td>\n",
              "      <td>0.00</td>\n",
              "      <td>0.32</td>\n",
              "      <td>0.00</td>\n",
              "      <td>1.29</td>\n",
              "      <td>1.93</td>\n",
              "      <td>0.00</td>\n",
              "      <td>0.96</td>\n",
              "      <td>0.0</td>\n",
              "      <td>0.00</td>\n",
              "      <td>0.00</td>\n",
              "      <td>0.0</td>\n",
              "      <td>0.0</td>\n",
              "      <td>0.0</td>\n",
              "      <td>0.0</td>\n",
              "      <td>0.0</td>\n",
              "      <td>0.0</td>\n",
              "      <td>0.0</td>\n",
              "      <td>0.0</td>\n",
              "      <td>0.0</td>\n",
              "      <td>0.0</td>\n",
              "      <td>0.0</td>\n",
              "      <td>0.0</td>\n",
              "      <td>0.00</td>\n",
              "      <td>0.0</td>\n",
              "      <td>0.0</td>\n",
              "      <td>0.00</td>\n",
              "      <td>0.0</td>\n",
              "      <td>0.0</td>\n",
              "      <td>0.00</td>\n",
              "      <td>0.0</td>\n",
              "      <td>0.00</td>\n",
              "      <td>0.00</td>\n",
              "      <td>0.0</td>\n",
              "      <td>0.0</td>\n",
              "      <td>0.00</td>\n",
              "      <td>0.000</td>\n",
              "      <td>0.0</td>\n",
              "      <td>0.778</td>\n",
              "      <td>0.000</td>\n",
              "      <td>0.000</td>\n",
              "      <td>3.756</td>\n",
              "      <td>61</td>\n",
              "      <td>278</td>\n",
              "      <td>1</td>\n",
              "    </tr>\n",
              "    <tr>\n",
              "      <th>1</th>\n",
              "      <td>0.21</td>\n",
              "      <td>0.28</td>\n",
              "      <td>0.50</td>\n",
              "      <td>0.0</td>\n",
              "      <td>0.14</td>\n",
              "      <td>0.28</td>\n",
              "      <td>0.21</td>\n",
              "      <td>0.07</td>\n",
              "      <td>0.00</td>\n",
              "      <td>0.94</td>\n",
              "      <td>0.21</td>\n",
              "      <td>0.79</td>\n",
              "      <td>0.65</td>\n",
              "      <td>0.21</td>\n",
              "      <td>0.14</td>\n",
              "      <td>0.14</td>\n",
              "      <td>0.07</td>\n",
              "      <td>0.28</td>\n",
              "      <td>3.47</td>\n",
              "      <td>0.00</td>\n",
              "      <td>1.59</td>\n",
              "      <td>0.0</td>\n",
              "      <td>0.43</td>\n",
              "      <td>0.43</td>\n",
              "      <td>0.0</td>\n",
              "      <td>0.0</td>\n",
              "      <td>0.0</td>\n",
              "      <td>0.0</td>\n",
              "      <td>0.0</td>\n",
              "      <td>0.0</td>\n",
              "      <td>0.0</td>\n",
              "      <td>0.0</td>\n",
              "      <td>0.0</td>\n",
              "      <td>0.0</td>\n",
              "      <td>0.0</td>\n",
              "      <td>0.0</td>\n",
              "      <td>0.07</td>\n",
              "      <td>0.0</td>\n",
              "      <td>0.0</td>\n",
              "      <td>0.00</td>\n",
              "      <td>0.0</td>\n",
              "      <td>0.0</td>\n",
              "      <td>0.00</td>\n",
              "      <td>0.0</td>\n",
              "      <td>0.00</td>\n",
              "      <td>0.00</td>\n",
              "      <td>0.0</td>\n",
              "      <td>0.0</td>\n",
              "      <td>0.00</td>\n",
              "      <td>0.132</td>\n",
              "      <td>0.0</td>\n",
              "      <td>0.372</td>\n",
              "      <td>0.180</td>\n",
              "      <td>0.048</td>\n",
              "      <td>5.114</td>\n",
              "      <td>101</td>\n",
              "      <td>1028</td>\n",
              "      <td>1</td>\n",
              "    </tr>\n",
              "    <tr>\n",
              "      <th>2</th>\n",
              "      <td>0.06</td>\n",
              "      <td>0.00</td>\n",
              "      <td>0.71</td>\n",
              "      <td>0.0</td>\n",
              "      <td>1.23</td>\n",
              "      <td>0.19</td>\n",
              "      <td>0.19</td>\n",
              "      <td>0.12</td>\n",
              "      <td>0.64</td>\n",
              "      <td>0.25</td>\n",
              "      <td>0.38</td>\n",
              "      <td>0.45</td>\n",
              "      <td>0.12</td>\n",
              "      <td>0.00</td>\n",
              "      <td>1.75</td>\n",
              "      <td>0.06</td>\n",
              "      <td>0.06</td>\n",
              "      <td>1.03</td>\n",
              "      <td>1.36</td>\n",
              "      <td>0.32</td>\n",
              "      <td>0.51</td>\n",
              "      <td>0.0</td>\n",
              "      <td>1.16</td>\n",
              "      <td>0.06</td>\n",
              "      <td>0.0</td>\n",
              "      <td>0.0</td>\n",
              "      <td>0.0</td>\n",
              "      <td>0.0</td>\n",
              "      <td>0.0</td>\n",
              "      <td>0.0</td>\n",
              "      <td>0.0</td>\n",
              "      <td>0.0</td>\n",
              "      <td>0.0</td>\n",
              "      <td>0.0</td>\n",
              "      <td>0.0</td>\n",
              "      <td>0.0</td>\n",
              "      <td>0.00</td>\n",
              "      <td>0.0</td>\n",
              "      <td>0.0</td>\n",
              "      <td>0.06</td>\n",
              "      <td>0.0</td>\n",
              "      <td>0.0</td>\n",
              "      <td>0.12</td>\n",
              "      <td>0.0</td>\n",
              "      <td>0.06</td>\n",
              "      <td>0.06</td>\n",
              "      <td>0.0</td>\n",
              "      <td>0.0</td>\n",
              "      <td>0.01</td>\n",
              "      <td>0.143</td>\n",
              "      <td>0.0</td>\n",
              "      <td>0.276</td>\n",
              "      <td>0.184</td>\n",
              "      <td>0.010</td>\n",
              "      <td>9.821</td>\n",
              "      <td>485</td>\n",
              "      <td>2259</td>\n",
              "      <td>1</td>\n",
              "    </tr>\n",
              "    <tr>\n",
              "      <th>3</th>\n",
              "      <td>0.00</td>\n",
              "      <td>0.00</td>\n",
              "      <td>0.00</td>\n",
              "      <td>0.0</td>\n",
              "      <td>0.63</td>\n",
              "      <td>0.00</td>\n",
              "      <td>0.31</td>\n",
              "      <td>0.63</td>\n",
              "      <td>0.31</td>\n",
              "      <td>0.63</td>\n",
              "      <td>0.31</td>\n",
              "      <td>0.31</td>\n",
              "      <td>0.31</td>\n",
              "      <td>0.00</td>\n",
              "      <td>0.00</td>\n",
              "      <td>0.31</td>\n",
              "      <td>0.00</td>\n",
              "      <td>0.00</td>\n",
              "      <td>3.18</td>\n",
              "      <td>0.00</td>\n",
              "      <td>0.31</td>\n",
              "      <td>0.0</td>\n",
              "      <td>0.00</td>\n",
              "      <td>0.00</td>\n",
              "      <td>0.0</td>\n",
              "      <td>0.0</td>\n",
              "      <td>0.0</td>\n",
              "      <td>0.0</td>\n",
              "      <td>0.0</td>\n",
              "      <td>0.0</td>\n",
              "      <td>0.0</td>\n",
              "      <td>0.0</td>\n",
              "      <td>0.0</td>\n",
              "      <td>0.0</td>\n",
              "      <td>0.0</td>\n",
              "      <td>0.0</td>\n",
              "      <td>0.00</td>\n",
              "      <td>0.0</td>\n",
              "      <td>0.0</td>\n",
              "      <td>0.00</td>\n",
              "      <td>0.0</td>\n",
              "      <td>0.0</td>\n",
              "      <td>0.00</td>\n",
              "      <td>0.0</td>\n",
              "      <td>0.00</td>\n",
              "      <td>0.00</td>\n",
              "      <td>0.0</td>\n",
              "      <td>0.0</td>\n",
              "      <td>0.00</td>\n",
              "      <td>0.137</td>\n",
              "      <td>0.0</td>\n",
              "      <td>0.137</td>\n",
              "      <td>0.000</td>\n",
              "      <td>0.000</td>\n",
              "      <td>3.537</td>\n",
              "      <td>40</td>\n",
              "      <td>191</td>\n",
              "      <td>1</td>\n",
              "    </tr>\n",
              "    <tr>\n",
              "      <th>4</th>\n",
              "      <td>0.00</td>\n",
              "      <td>0.00</td>\n",
              "      <td>0.00</td>\n",
              "      <td>0.0</td>\n",
              "      <td>0.63</td>\n",
              "      <td>0.00</td>\n",
              "      <td>0.31</td>\n",
              "      <td>0.63</td>\n",
              "      <td>0.31</td>\n",
              "      <td>0.63</td>\n",
              "      <td>0.31</td>\n",
              "      <td>0.31</td>\n",
              "      <td>0.31</td>\n",
              "      <td>0.00</td>\n",
              "      <td>0.00</td>\n",
              "      <td>0.31</td>\n",
              "      <td>0.00</td>\n",
              "      <td>0.00</td>\n",
              "      <td>3.18</td>\n",
              "      <td>0.00</td>\n",
              "      <td>0.31</td>\n",
              "      <td>0.0</td>\n",
              "      <td>0.00</td>\n",
              "      <td>0.00</td>\n",
              "      <td>0.0</td>\n",
              "      <td>0.0</td>\n",
              "      <td>0.0</td>\n",
              "      <td>0.0</td>\n",
              "      <td>0.0</td>\n",
              "      <td>0.0</td>\n",
              "      <td>0.0</td>\n",
              "      <td>0.0</td>\n",
              "      <td>0.0</td>\n",
              "      <td>0.0</td>\n",
              "      <td>0.0</td>\n",
              "      <td>0.0</td>\n",
              "      <td>0.00</td>\n",
              "      <td>0.0</td>\n",
              "      <td>0.0</td>\n",
              "      <td>0.00</td>\n",
              "      <td>0.0</td>\n",
              "      <td>0.0</td>\n",
              "      <td>0.00</td>\n",
              "      <td>0.0</td>\n",
              "      <td>0.00</td>\n",
              "      <td>0.00</td>\n",
              "      <td>0.0</td>\n",
              "      <td>0.0</td>\n",
              "      <td>0.00</td>\n",
              "      <td>0.135</td>\n",
              "      <td>0.0</td>\n",
              "      <td>0.135</td>\n",
              "      <td>0.000</td>\n",
              "      <td>0.000</td>\n",
              "      <td>3.537</td>\n",
              "      <td>40</td>\n",
              "      <td>191</td>\n",
              "      <td>1</td>\n",
              "    </tr>\n",
              "  </tbody>\n",
              "</table>\n",
              "</div>"
            ],
            "text/plain": [
              "   word_freq_make  word_freq_address  ...  capital_run_length_total  spam\n",
              "0            0.00               0.64  ...                       278     1\n",
              "1            0.21               0.28  ...                      1028     1\n",
              "2            0.06               0.00  ...                      2259     1\n",
              "3            0.00               0.00  ...                       191     1\n",
              "4            0.00               0.00  ...                       191     1\n",
              "\n",
              "[5 rows x 58 columns]"
            ]
          },
          "metadata": {
            "tags": []
          },
          "execution_count": 67
        }
      ]
    },
    {
      "cell_type": "markdown",
      "metadata": {
        "id": "oxl8EfGaet0H"
      },
      "source": [
        "Получилось что 1 бинарный признак в 57 колонке и остальные вещественные ?...\n",
        "\n"
      ]
    },
    {
      "cell_type": "code",
      "metadata": {
        "id": "WZ7IUBqI-i4_",
        "outputId": "cac88fcc-6d87-48e4-fb6a-c1e28097f6c1",
        "colab": {
          "base_uri": "https://localhost:8080/",
          "height": 35
        }
      },
      "source": [
        "print('Размер выборки составляет l={} объектов.'.format(len(df)))"
      ],
      "execution_count": 68,
      "outputs": [
        {
          "output_type": "stream",
          "text": [
            "Размер выборки составляет l=4601 объектов.\n"
          ],
          "name": "stdout"
        }
      ]
    },
    {
      "cell_type": "markdown",
      "metadata": {
        "id": "zP5B17LLdoqo"
      },
      "source": [
        "На следующую часть визуализации я потратил слишком много времени поэтому не могу не показать, даже при том что у меня ничего не получилось, я все же проиллюстрирую почему переход от 57 измерений к 2 плохая идея.\n",
        "\n"
      ]
    },
    {
      "cell_type": "code",
      "metadata": {
        "id": "cEdDkk1Ed5QG",
        "outputId": "d992363e-46cd-4af7-8295-71f0751b0b1a",
        "colab": {
          "base_uri": "https://localhost:8080/",
          "height": 214
        }
      },
      "source": [
        "from sklearn.decomposition import PCA\n",
        "x = StandardScaler().fit_transform(df)\n",
        "x = pd.DataFrame(x)\n",
        "pca = PCA()\n",
        "x_pca = pca.fit_transform(x)\n",
        "x_pca = pd.DataFrame(x_pca)\n",
        "x_pca.head(5)"
      ],
      "execution_count": 69,
      "outputs": [
        {
          "output_type": "execute_result",
          "data": {
            "text/html": [
              "<div>\n",
              "<style scoped>\n",
              "    .dataframe tbody tr th:only-of-type {\n",
              "        vertical-align: middle;\n",
              "    }\n",
              "\n",
              "    .dataframe tbody tr th {\n",
              "        vertical-align: top;\n",
              "    }\n",
              "\n",
              "    .dataframe thead th {\n",
              "        text-align: right;\n",
              "    }\n",
              "</style>\n",
              "<table border=\"1\" class=\"dataframe\">\n",
              "  <thead>\n",
              "    <tr style=\"text-align: right;\">\n",
              "      <th></th>\n",
              "      <th>0</th>\n",
              "      <th>1</th>\n",
              "      <th>2</th>\n",
              "      <th>3</th>\n",
              "      <th>4</th>\n",
              "      <th>5</th>\n",
              "      <th>6</th>\n",
              "      <th>7</th>\n",
              "      <th>8</th>\n",
              "      <th>9</th>\n",
              "      <th>10</th>\n",
              "      <th>11</th>\n",
              "      <th>12</th>\n",
              "      <th>13</th>\n",
              "      <th>14</th>\n",
              "      <th>15</th>\n",
              "      <th>16</th>\n",
              "      <th>17</th>\n",
              "      <th>18</th>\n",
              "      <th>19</th>\n",
              "      <th>20</th>\n",
              "      <th>21</th>\n",
              "      <th>22</th>\n",
              "      <th>23</th>\n",
              "      <th>24</th>\n",
              "      <th>25</th>\n",
              "      <th>26</th>\n",
              "      <th>27</th>\n",
              "      <th>28</th>\n",
              "      <th>29</th>\n",
              "      <th>30</th>\n",
              "      <th>31</th>\n",
              "      <th>32</th>\n",
              "      <th>33</th>\n",
              "      <th>34</th>\n",
              "      <th>35</th>\n",
              "      <th>36</th>\n",
              "      <th>37</th>\n",
              "      <th>38</th>\n",
              "      <th>39</th>\n",
              "      <th>40</th>\n",
              "      <th>41</th>\n",
              "      <th>42</th>\n",
              "      <th>43</th>\n",
              "      <th>44</th>\n",
              "      <th>45</th>\n",
              "      <th>46</th>\n",
              "      <th>47</th>\n",
              "      <th>48</th>\n",
              "      <th>49</th>\n",
              "      <th>50</th>\n",
              "      <th>51</th>\n",
              "      <th>52</th>\n",
              "      <th>53</th>\n",
              "      <th>54</th>\n",
              "      <th>55</th>\n",
              "      <th>56</th>\n",
              "      <th>57</th>\n",
              "    </tr>\n",
              "  </thead>\n",
              "  <tbody>\n",
              "    <tr>\n",
              "      <th>0</th>\n",
              "      <td>-0.899005</td>\n",
              "      <td>0.361221</td>\n",
              "      <td>-0.661398</td>\n",
              "      <td>0.301241</td>\n",
              "      <td>-0.215632</td>\n",
              "      <td>-0.493937</td>\n",
              "      <td>-0.143706</td>\n",
              "      <td>0.022848</td>\n",
              "      <td>0.710765</td>\n",
              "      <td>-0.530218</td>\n",
              "      <td>-1.247021</td>\n",
              "      <td>0.205146</td>\n",
              "      <td>-0.107292</td>\n",
              "      <td>0.203067</td>\n",
              "      <td>0.411338</td>\n",
              "      <td>0.005014</td>\n",
              "      <td>0.346887</td>\n",
              "      <td>-0.072450</td>\n",
              "      <td>0.223212</td>\n",
              "      <td>0.320808</td>\n",
              "      <td>-0.593255</td>\n",
              "      <td>0.298544</td>\n",
              "      <td>0.268043</td>\n",
              "      <td>-0.192418</td>\n",
              "      <td>0.108499</td>\n",
              "      <td>-0.699740</td>\n",
              "      <td>0.781273</td>\n",
              "      <td>-0.167543</td>\n",
              "      <td>0.620181</td>\n",
              "      <td>0.215762</td>\n",
              "      <td>-0.330494</td>\n",
              "      <td>0.198508</td>\n",
              "      <td>0.274403</td>\n",
              "      <td>-0.260471</td>\n",
              "      <td>-0.527390</td>\n",
              "      <td>-0.066649</td>\n",
              "      <td>0.486422</td>\n",
              "      <td>0.237167</td>\n",
              "      <td>0.098757</td>\n",
              "      <td>0.222141</td>\n",
              "      <td>0.120785</td>\n",
              "      <td>0.139904</td>\n",
              "      <td>-0.789201</td>\n",
              "      <td>-0.054042</td>\n",
              "      <td>-0.222640</td>\n",
              "      <td>-0.054530</td>\n",
              "      <td>-0.268901</td>\n",
              "      <td>-0.387310</td>\n",
              "      <td>0.164889</td>\n",
              "      <td>0.076083</td>\n",
              "      <td>0.389119</td>\n",
              "      <td>0.063331</td>\n",
              "      <td>-0.679554</td>\n",
              "      <td>0.348686</td>\n",
              "      <td>0.170187</td>\n",
              "      <td>0.251331</td>\n",
              "      <td>0.132374</td>\n",
              "      <td>-0.002904</td>\n",
              "    </tr>\n",
              "    <tr>\n",
              "      <th>1</th>\n",
              "      <td>-1.434348</td>\n",
              "      <td>2.224901</td>\n",
              "      <td>0.106123</td>\n",
              "      <td>-0.452785</td>\n",
              "      <td>-0.230411</td>\n",
              "      <td>-0.880978</td>\n",
              "      <td>-0.477171</td>\n",
              "      <td>0.657501</td>\n",
              "      <td>-0.872138</td>\n",
              "      <td>-0.079853</td>\n",
              "      <td>0.175600</td>\n",
              "      <td>0.172860</td>\n",
              "      <td>0.092036</td>\n",
              "      <td>-0.516939</td>\n",
              "      <td>-0.360397</td>\n",
              "      <td>-0.712014</td>\n",
              "      <td>-0.000607</td>\n",
              "      <td>-0.131115</td>\n",
              "      <td>-0.356912</td>\n",
              "      <td>0.253109</td>\n",
              "      <td>0.273892</td>\n",
              "      <td>-0.189571</td>\n",
              "      <td>-0.269473</td>\n",
              "      <td>-0.118757</td>\n",
              "      <td>0.388787</td>\n",
              "      <td>-0.480746</td>\n",
              "      <td>-0.394667</td>\n",
              "      <td>0.231258</td>\n",
              "      <td>0.079936</td>\n",
              "      <td>0.262882</td>\n",
              "      <td>0.769807</td>\n",
              "      <td>0.431477</td>\n",
              "      <td>-0.071708</td>\n",
              "      <td>0.422202</td>\n",
              "      <td>-0.056488</td>\n",
              "      <td>0.049480</td>\n",
              "      <td>-0.376593</td>\n",
              "      <td>0.047358</td>\n",
              "      <td>0.566066</td>\n",
              "      <td>-0.274819</td>\n",
              "      <td>-0.230891</td>\n",
              "      <td>0.430334</td>\n",
              "      <td>-0.327020</td>\n",
              "      <td>-0.139946</td>\n",
              "      <td>0.189390</td>\n",
              "      <td>-0.291737</td>\n",
              "      <td>0.102347</td>\n",
              "      <td>-0.292203</td>\n",
              "      <td>0.088395</td>\n",
              "      <td>-0.086638</td>\n",
              "      <td>0.061845</td>\n",
              "      <td>0.135516</td>\n",
              "      <td>-0.318477</td>\n",
              "      <td>0.111906</td>\n",
              "      <td>0.131522</td>\n",
              "      <td>-0.288387</td>\n",
              "      <td>0.053802</td>\n",
              "      <td>-0.002150</td>\n",
              "    </tr>\n",
              "    <tr>\n",
              "      <th>2</th>\n",
              "      <td>-1.831251</td>\n",
              "      <td>4.829084</td>\n",
              "      <td>3.528514</td>\n",
              "      <td>-1.128986</td>\n",
              "      <td>0.785231</td>\n",
              "      <td>-2.565976</td>\n",
              "      <td>-2.102112</td>\n",
              "      <td>-2.123348</td>\n",
              "      <td>1.369235</td>\n",
              "      <td>1.194292</td>\n",
              "      <td>-0.687697</td>\n",
              "      <td>-0.261776</td>\n",
              "      <td>-1.523586</td>\n",
              "      <td>0.441741</td>\n",
              "      <td>0.568342</td>\n",
              "      <td>0.574125</td>\n",
              "      <td>0.550260</td>\n",
              "      <td>0.616474</td>\n",
              "      <td>-0.095133</td>\n",
              "      <td>-0.255231</td>\n",
              "      <td>1.308927</td>\n",
              "      <td>-0.235720</td>\n",
              "      <td>-0.148377</td>\n",
              "      <td>-0.153999</td>\n",
              "      <td>-0.356286</td>\n",
              "      <td>0.200503</td>\n",
              "      <td>1.554959</td>\n",
              "      <td>-1.148836</td>\n",
              "      <td>-0.025199</td>\n",
              "      <td>0.252686</td>\n",
              "      <td>0.638678</td>\n",
              "      <td>-0.580421</td>\n",
              "      <td>-0.214945</td>\n",
              "      <td>-1.979467</td>\n",
              "      <td>-0.173037</td>\n",
              "      <td>-0.019177</td>\n",
              "      <td>-0.153238</td>\n",
              "      <td>0.647930</td>\n",
              "      <td>1.284428</td>\n",
              "      <td>-1.453062</td>\n",
              "      <td>-0.523165</td>\n",
              "      <td>-0.073037</td>\n",
              "      <td>0.615411</td>\n",
              "      <td>0.709802</td>\n",
              "      <td>-0.024243</td>\n",
              "      <td>0.345712</td>\n",
              "      <td>0.717104</td>\n",
              "      <td>1.104717</td>\n",
              "      <td>0.213881</td>\n",
              "      <td>-0.697356</td>\n",
              "      <td>-0.141216</td>\n",
              "      <td>-0.201616</td>\n",
              "      <td>0.126991</td>\n",
              "      <td>-0.167731</td>\n",
              "      <td>0.087503</td>\n",
              "      <td>-0.299899</td>\n",
              "      <td>0.283298</td>\n",
              "      <td>-0.000644</td>\n",
              "    </tr>\n",
              "    <tr>\n",
              "      <th>3</th>\n",
              "      <td>-0.992335</td>\n",
              "      <td>0.787614</td>\n",
              "      <td>-0.634562</td>\n",
              "      <td>0.052978</td>\n",
              "      <td>-0.172712</td>\n",
              "      <td>0.561302</td>\n",
              "      <td>0.406015</td>\n",
              "      <td>-0.473644</td>\n",
              "      <td>0.116029</td>\n",
              "      <td>0.265838</td>\n",
              "      <td>0.371098</td>\n",
              "      <td>-0.196188</td>\n",
              "      <td>-0.125900</td>\n",
              "      <td>-0.351458</td>\n",
              "      <td>-0.148708</td>\n",
              "      <td>-0.687311</td>\n",
              "      <td>-0.116212</td>\n",
              "      <td>-0.014520</td>\n",
              "      <td>-0.143200</td>\n",
              "      <td>0.312541</td>\n",
              "      <td>0.502760</td>\n",
              "      <td>-0.474728</td>\n",
              "      <td>-0.128985</td>\n",
              "      <td>0.450888</td>\n",
              "      <td>0.490537</td>\n",
              "      <td>-0.511032</td>\n",
              "      <td>-0.377418</td>\n",
              "      <td>-0.201156</td>\n",
              "      <td>0.127269</td>\n",
              "      <td>-0.268576</td>\n",
              "      <td>0.386821</td>\n",
              "      <td>0.602237</td>\n",
              "      <td>-0.613675</td>\n",
              "      <td>-0.026799</td>\n",
              "      <td>0.378089</td>\n",
              "      <td>0.070443</td>\n",
              "      <td>0.650078</td>\n",
              "      <td>0.009220</td>\n",
              "      <td>0.309601</td>\n",
              "      <td>-1.065258</td>\n",
              "      <td>0.219412</td>\n",
              "      <td>-0.385450</td>\n",
              "      <td>0.537941</td>\n",
              "      <td>-0.215213</td>\n",
              "      <td>-0.686272</td>\n",
              "      <td>0.148241</td>\n",
              "      <td>-0.599599</td>\n",
              "      <td>-0.155241</td>\n",
              "      <td>-0.191138</td>\n",
              "      <td>-0.036807</td>\n",
              "      <td>0.047306</td>\n",
              "      <td>0.132734</td>\n",
              "      <td>-0.568888</td>\n",
              "      <td>0.500558</td>\n",
              "      <td>0.179590</td>\n",
              "      <td>-0.019940</td>\n",
              "      <td>0.005512</td>\n",
              "      <td>-0.000550</td>\n",
              "    </tr>\n",
              "    <tr>\n",
              "      <th>4</th>\n",
              "      <td>-0.993229</td>\n",
              "      <td>0.786873</td>\n",
              "      <td>-0.636628</td>\n",
              "      <td>0.052889</td>\n",
              "      <td>-0.172853</td>\n",
              "      <td>0.561182</td>\n",
              "      <td>0.404933</td>\n",
              "      <td>-0.475264</td>\n",
              "      <td>0.114962</td>\n",
              "      <td>0.267188</td>\n",
              "      <td>0.370847</td>\n",
              "      <td>-0.195695</td>\n",
              "      <td>-0.126338</td>\n",
              "      <td>-0.352087</td>\n",
              "      <td>-0.147376</td>\n",
              "      <td>-0.687570</td>\n",
              "      <td>-0.116408</td>\n",
              "      <td>-0.013895</td>\n",
              "      <td>-0.143756</td>\n",
              "      <td>0.312285</td>\n",
              "      <td>0.503226</td>\n",
              "      <td>-0.476296</td>\n",
              "      <td>-0.127948</td>\n",
              "      <td>0.448230</td>\n",
              "      <td>0.490551</td>\n",
              "      <td>-0.511049</td>\n",
              "      <td>-0.376510</td>\n",
              "      <td>-0.200188</td>\n",
              "      <td>0.127693</td>\n",
              "      <td>-0.271099</td>\n",
              "      <td>0.388209</td>\n",
              "      <td>0.601050</td>\n",
              "      <td>-0.613898</td>\n",
              "      <td>-0.026159</td>\n",
              "      <td>0.378486</td>\n",
              "      <td>0.071332</td>\n",
              "      <td>0.651298</td>\n",
              "      <td>0.009783</td>\n",
              "      <td>0.309421</td>\n",
              "      <td>-1.064789</td>\n",
              "      <td>0.219623</td>\n",
              "      <td>-0.383704</td>\n",
              "      <td>0.537065</td>\n",
              "      <td>-0.215476</td>\n",
              "      <td>-0.686693</td>\n",
              "      <td>0.148643</td>\n",
              "      <td>-0.597971</td>\n",
              "      <td>-0.154526</td>\n",
              "      <td>-0.190064</td>\n",
              "      <td>-0.037588</td>\n",
              "      <td>0.047131</td>\n",
              "      <td>0.132648</td>\n",
              "      <td>-0.568753</td>\n",
              "      <td>0.500838</td>\n",
              "      <td>0.179370</td>\n",
              "      <td>-0.016877</td>\n",
              "      <td>0.005858</td>\n",
              "      <td>-0.000556</td>\n",
              "    </tr>\n",
              "  </tbody>\n",
              "</table>\n",
              "</div>"
            ],
            "text/plain": [
              "         0         1         2   ...        55        56        57\n",
              "0 -0.899005  0.361221 -0.661398  ...  0.251331  0.132374 -0.002904\n",
              "1 -1.434348  2.224901  0.106123  ... -0.288387  0.053802 -0.002150\n",
              "2 -1.831251  4.829084  3.528514  ... -0.299899  0.283298 -0.000644\n",
              "3 -0.992335  0.787614 -0.634562  ... -0.019940  0.005512 -0.000550\n",
              "4 -0.993229  0.786873 -0.636628  ... -0.016877  0.005858 -0.000556\n",
              "\n",
              "[5 rows x 58 columns]"
            ]
          },
          "metadata": {
            "tags": []
          },
          "execution_count": 69
        }
      ]
    },
    {
      "cell_type": "code",
      "metadata": {
        "id": "z8IX21gynQiE",
        "outputId": "053a5fbb-5c2c-4e84-8033-9dca9cac0329",
        "colab": {
          "base_uri": "https://localhost:8080/",
          "height": 284
        }
      },
      "source": [
        "a = pca.explained_variance_ratio_\n",
        "pop=range(len(a))\n",
        "plt.plot(pop,a)"
      ],
      "execution_count": 70,
      "outputs": [
        {
          "output_type": "execute_result",
          "data": {
            "text/plain": [
              "[<matplotlib.lines.Line2D at 0x7f3ac92c45f8>]"
            ]
          },
          "metadata": {
            "tags": []
          },
          "execution_count": 70
        },
        {
          "output_type": "display_data",
          "data": {
            "image/png": "[encoded data removed]",
            "text/plain": [
              "<Figure size 432x288 with 1 Axes>"
            ]
          },
          "metadata": {
            "tags": [],
            "needs_background": "light"
          }
        }
      ]
    },
    {
      "cell_type": "markdown",
      "metadata": {
        "id": "B3mf8N_1gzUe"
      },
      "source": [
        "Получается что 1 и 2 признак наиболее весомые в нашей выборке, по ним и попробуем построить графики, предпологая что будет возможность как то визуально их разделить.\n"
      ]
    },
    {
      "cell_type": "code",
      "metadata": {
        "id": "r5jaZd7ug_f_",
        "outputId": "7780a209-975f-468e-bcb8-82facc12ec10",
        "colab": {
          "base_uri": "https://localhost:8080/",
          "height": 283
        }
      },
      "source": [
        "spam = x[round(x[57]) == 1]\n",
        "norm = x[round(x[57]) == -1]\n",
        "spam = spam[spam.columns[0:2]]\n",
        "norm = norm[norm.columns[0:2]]\n",
        "plt.scatter(norm[0], norm[1])\n",
        "plt.scatter(spam[0], spam[1])"
      ],
      "execution_count": 71,
      "outputs": [
        {
          "output_type": "execute_result",
          "data": {
            "text/plain": [
              "<matplotlib.collections.PathCollection at 0x7f3ac921ce80>"
            ]
          },
          "metadata": {
            "tags": []
          },
          "execution_count": 71
        },
        {
          "output_type": "display_data",
          "data": {
            "image/png": "[encoded data removed]",
            "text/plain": [
              "<Figure size 432x288 with 1 Axes>"
            ]
          },
          "metadata": {
            "tags": [],
            "needs_background": "light"
          }
        }
      ]
    },
    {
      "cell_type": "code",
      "metadata": {
        "id": "qGG9b41aUdjR",
        "outputId": "ca9ffe24-4f4e-4d65-eadd-100a1aa106d3",
        "colab": {
          "base_uri": "https://localhost:8080/",
          "height": 283
        }
      },
      "source": [
        "spam = x[round(x[57]) == 1]\n",
        "norm = x[round(x[57]) == -1]\n",
        "spam = spam[spam.columns[2:4]]\n",
        "norm = norm[norm.columns[2:4]]\n",
        "plt.scatter(norm[2], norm[3])\n",
        "plt.scatter(spam[2], spam[3])"
      ],
      "execution_count": 72,
      "outputs": [
        {
          "output_type": "execute_result",
          "data": {
            "text/plain": [
              "<matplotlib.collections.PathCollection at 0x7f3ac9205dd8>"
            ]
          },
          "metadata": {
            "tags": []
          },
          "execution_count": 72
        },
        {
          "output_type": "display_data",
          "data": {
            "image/png": "[encoded data removed]",
            "text/plain": [
              "<Figure size 432x288 with 1 Axes>"
            ]
          },
          "metadata": {
            "tags": [],
            "needs_background": "light"
          }
        }
      ]
    },
    {
      "cell_type": "code",
      "metadata": {
        "id": "zFD7ZCOnXKXA",
        "outputId": "3e47fe7c-91fa-45a1-f4c3-bc375bba99ec",
        "colab": {
          "base_uri": "https://localhost:8080/",
          "height": 283
        }
      },
      "source": [
        "spam = x[round(x[57]) == 1]\n",
        "norm = x[round(x[57]) == -1]\n",
        "spam = spam[spam.columns[10:12]]\n",
        "norm = norm[norm.columns[10:12]]\n",
        "plt.scatter(norm[10], norm[11])\n",
        "plt.scatter(spam[10], spam[11])"
      ],
      "execution_count": 73,
      "outputs": [
        {
          "output_type": "execute_result",
          "data": {
            "text/plain": [
              "<matplotlib.collections.PathCollection at 0x7f3ac916a780>"
            ]
          },
          "metadata": {
            "tags": []
          },
          "execution_count": 73
        },
        {
          "output_type": "display_data",
          "data": {
            "image/png": "[encoded data removed]",
            "text/plain": [
              "<Figure size 432x288 with 1 Axes>"
            ]
          },
          "metadata": {
            "tags": [],
            "needs_background": "light"
          }
        }
      ]
    },
    {
      "cell_type": "markdown",
      "metadata": {
        "id": "4c2E6aO3hxgv"
      },
      "source": [
        "Вот тут и обнаруживается что попытки визуализировать 57-ми мерное пространство по главным компонентам достаточно проблематично...\n"
      ]
    },
    {
      "cell_type": "code",
      "metadata": {
        "id": "HVqowui9iEwr"
      },
      "source": [
        "df = pd.read_csv('https://archive.ics.uci.edu/ml/machine-learning-databases/spambase/spambase.data', header=None, names=cols, index_col=57)"
      ],
      "execution_count": 74,
      "outputs": []
    },
    {
      "cell_type": "code",
      "metadata": {
        "id": "0Hi4RqXIZb3t"
      },
      "source": [
        "X_train, X_test, y_train, y_test = train_test_split(df,df.index.values , test_size=0.3) # Разбиваем данные\n",
        "scaler = StandardScaler().fit(X_train)                           \n",
        "X_train = scaler.transform(X_train)\n",
        "X_test = scaler.transform(X_test)                                               # Нормализуем"
      ],
      "execution_count": 75,
      "outputs": []
    },
    {
      "cell_type": "code",
      "metadata": {
        "id": "RSyVU0dZ-zK8",
        "outputId": "7534aa0e-73b9-4bf4-9721-42c417995204",
        "colab": {
          "base_uri": "https://localhost:8080/",
          "height": 35
        }
      },
      "source": [
        "model = SVC(kernel='linear')\n",
        "_ = model.fit(X_train, y_train)\n",
        "print('SVM Accuracy linear kernel:' , model.score(X_test, y_test))"
      ],
      "execution_count": 76,
      "outputs": [
        {
          "output_type": "stream",
          "text": [
            "SVM Accuracy linear kernel: 0.9362780593772628\n"
          ],
          "name": "stdout"
        }
      ]
    },
    {
      "cell_type": "code",
      "metadata": {
        "id": "6siJeUeOAGEa",
        "outputId": "59a0c812-fa8a-468d-b8fa-9d1f8b343fba",
        "colab": {
          "base_uri": "https://localhost:8080/",
          "height": 35
        }
      },
      "source": [
        "model = SVC(kernel='rbf')\n",
        "_ = model.fit(X_train, y_train)\n",
        "print('SVM Accuracy RBF kernel:' , model.score(X_test, y_test))"
      ],
      "execution_count": 77,
      "outputs": [
        {
          "output_type": "stream",
          "text": [
            "SVM Accuracy RBF kernel: 0.9384503982621288\n"
          ],
          "name": "stdout"
        }
      ]
    },
    {
      "cell_type": "code",
      "metadata": {
        "id": "ZK8ctmz0Dviw",
        "outputId": "6a02ca90-2685-42d3-b4fd-2d5fb67333df",
        "colab": {
          "base_uri": "https://localhost:8080/",
          "height": 35
        }
      },
      "source": [
        "model = SVC(kernel='sigmoid')\n",
        "_ = model.fit(X_train, y_train)\n",
        "print('SVM Accuracy sigmoid kernel:' , model.score(X_test, y_test))"
      ],
      "execution_count": 78,
      "outputs": [
        {
          "output_type": "stream",
          "text": [
            "SVM Accuracy sigmoid kernel: 0.8826937002172339\n"
          ],
          "name": "stdout"
        }
      ]
    },
    {
      "cell_type": "code",
      "metadata": {
        "id": "sCGvH5tQyIDI",
        "outputId": "4a0e52f0-6a8a-4fd6-902f-a5bcdfe5026c",
        "colab": {
          "base_uri": "https://localhost:8080/",
          "height": 35
        }
      },
      "source": [
        "def kernel(X1, X2):\n",
        "    return (X1@X2.T)**2\n",
        "model = SVC(kernel=kernel)\n",
        "_ = model.fit(X_train, y_train)\n",
        "print('SVM Accuracy custom kernel:' , model.score(X_test, y_test))"
      ],
      "execution_count": 79,
      "outputs": [
        {
          "output_type": "stream",
          "text": [
            "SVM Accuracy custom kernel: 0.8950036205648081\n"
          ],
          "name": "stdout"
        }
      ]
    },
    {
      "cell_type": "markdown",
      "metadata": {
        "id": "Ul5RP6C3EZIl"
      },
      "source": [
        "Получается что RBF и линейное ядро лучше подходит для данной задачи классификации. Перейдем к методу 'k-ближайших соседей'.\n"
      ]
    },
    {
      "cell_type": "code",
      "metadata": {
        "id": "IXypDjAZUG2j",
        "outputId": "685b85a7-98be-412d-9429-22e598e4bccd",
        "colab": {
          "base_uri": "https://localhost:8080/",
          "height": 283
        }
      },
      "source": [
        "y=range(1,51)\n",
        "x=[]\n",
        "for i in y:\n",
        "  model = KNeighborsClassifier(n_neighbors=i)\n",
        "  _ = model.fit(X_train, y_train)\n",
        "  x.append(model.score(X_test, y_test))\n",
        "\n",
        "plt.plot(y,x)\n",
        "print('Лучший результат на стандартных параметрах: ',max(x))"
      ],
      "execution_count": 80,
      "outputs": [
        {
          "output_type": "stream",
          "text": [
            "Лучший результат на стандартных параметрах:  0.9181752353367125\n"
          ],
          "name": "stdout"
        },
        {
          "output_type": "display_data",
          "data": {
            "image/png": "[encoded data removed]",
            "text/plain": [
              "<Figure size 432x288 with 1 Axes>"
            ]
          },
          "metadata": {
            "tags": [],
            "needs_background": "light"
          }
        }
      ]
    },
    {
      "cell_type": "code",
      "metadata": {
        "id": "AiSNzXH8IrEd",
        "outputId": "85ef3256-4a4a-49e0-9cc6-0990e44ba9f7",
        "colab": {
          "base_uri": "https://localhost:8080/",
          "height": 283
        }
      },
      "source": [
        "x=[]\n",
        "for i in y:\n",
        "  model = KNeighborsClassifier(n_neighbors=i, metric= 'cosine')\n",
        "  _ = model.fit(X_train, y_train)\n",
        "  x.append(model.score(X_test, y_test))\n",
        "\n",
        "plt.plot(y,x)\n",
        "print('Лучший результат при метрике Cosine: ',max(x))"
      ],
      "execution_count": 81,
      "outputs": [
        {
          "output_type": "stream",
          "text": [
            "Лучший результат при метрике Cosine:  0.9210716871832005\n"
          ],
          "name": "stdout"
        },
        {
          "output_type": "display_data",
          "data": {
            "image/png": "[encoded data removed]",
            "text/plain": [
              "<Figure size 432x288 with 1 Axes>"
            ]
          },
          "metadata": {
            "tags": [],
            "needs_background": "light"
          }
        }
      ]
    },
    {
      "cell_type": "code",
      "metadata": {
        "id": "ChljXee3Iwz9",
        "outputId": "86b6220e-9105-451c-f556-d8e86f544466",
        "colab": {
          "base_uri": "https://localhost:8080/",
          "height": 283
        }
      },
      "source": [
        "x=[]\n",
        "for i in y:\n",
        "  model = KNeighborsClassifier(n_neighbors=i, metric= 'chebyshev')\n",
        "  _ = model.fit(X_train, y_train)\n",
        "  x.append(model.score(X_test, y_test))\n",
        "\n",
        "plt.plot(y,x)\n",
        "print('Лучший результат при метрике Chebyshev: ',max(x))"
      ],
      "execution_count": 82,
      "outputs": [
        {
          "output_type": "stream",
          "text": [
            "Лучший результат при метрике Chebyshev:  0.8957277335264301\n"
          ],
          "name": "stdout"
        },
        {
          "output_type": "display_data",
          "data": {
            "image/png": "[encoded data removed]",
            "text/plain": [
              "<Figure size 432x288 with 1 Axes>"
            ]
          },
          "metadata": {
            "tags": [],
            "needs_background": "light"
          }
        }
      ]
    },
    {
      "cell_type": "code",
      "metadata": {
        "id": "YkJ5ScIgJ4Ut",
        "outputId": "bab178f0-3233-43f2-fb1a-a4b94d758865",
        "colab": {
          "base_uri": "https://localhost:8080/",
          "height": 283
        }
      },
      "source": [
        "x=[]\n",
        "for i in y:\n",
        "  model = KNeighborsClassifier(n_neighbors=i, metric= 'manhattan')\n",
        "  _ = model.fit(X_train, y_train)\n",
        "  x.append(model.score(X_test, y_test))\n",
        "\n",
        "plt.plot(y,x)\n",
        "print('Лучший результат при метрике manhattan: ',max(x))"
      ],
      "execution_count": 83,
      "outputs": [
        {
          "output_type": "stream",
          "text": [
            "Лучший результат при метрике manhattan:  0.9138305575669804\n"
          ],
          "name": "stdout"
        },
        {
          "output_type": "display_data",
          "data": {
            "image/png": "[encoded data removed]",
            "text/plain": [
              "<Figure size 432x288 with 1 Axes>"
            ]
          },
          "metadata": {
            "tags": [],
            "needs_background": "light"
          }
        }
      ]
    },
    {
      "cell_type": "code",
      "metadata": {
        "id": "BJVCZ0q4KRiB",
        "outputId": "3e6a3d9e-a146-41c3-c12f-919e906c4599",
        "colab": {
          "base_uri": "https://localhost:8080/",
          "height": 283
        }
      },
      "source": [
        "x=[]\n",
        "for i in y:\n",
        "  model = KNeighborsClassifier(n_neighbors=i, metric= 'euclidean')\n",
        "  _ = model.fit(X_train, y_train)\n",
        "  x.append(model.score(X_test, y_test))\n",
        "\n",
        "plt.plot(y,x)\n",
        "print('Лучший результат в евклидовом пространстве: ',max(x))"
      ],
      "execution_count": 84,
      "outputs": [
        {
          "output_type": "stream",
          "text": [
            "Лучший результат в евклидовом пространстве:  0.9181752353367125\n"
          ],
          "name": "stdout"
        },
        {
          "output_type": "display_data",
          "data": {
            "image/png": "[encoded data removed]",
            "text/plain": [
              "<Figure size 432x288 with 1 Axes>"
            ]
          },
          "metadata": {
            "tags": [],
            "needs_background": "light"
          }
        }
      ]
    },
    {
      "cell_type": "markdown",
      "metadata": {
        "id": "XYKcHxoZrTgS"
      },
      "source": [
        "Метод k-ближайших соседей с линейно убивающими весами"
      ]
    },
    {
      "cell_type": "code",
      "metadata": {
        "id": "V1V0GeoCq19r"
      },
      "source": [
        "def func(distance):\n",
        "    ret = np.ones_like(distance)\n",
        "    k = ret.shape[1]\n",
        "    for i in range(k):\n",
        "        ret[:, i] *= (k-i)/k\n",
        "    return ret "
      ],
      "execution_count": 85,
      "outputs": []
    },
    {
      "cell_type": "code",
      "metadata": {
        "id": "YHq3dGGerfFN",
        "outputId": "0cce18fd-e88d-4b38-ee27-e3cdd7f3dc66",
        "colab": {
          "base_uri": "https://localhost:8080/",
          "height": 283
        }
      },
      "source": [
        "x=[]\n",
        "for i in y:\n",
        "  model = KNeighborsClassifier(n_neighbors=i, weights=func)\n",
        "  _ = model.fit(X_train, y_train)\n",
        "  x.append(model.score(X_test, y_test))\n",
        "\n",
        "plt.plot(y,x)\n",
        "print('Лучший результат с убывающими весами: ',max(x))"
      ],
      "execution_count": 86,
      "outputs": [
        {
          "output_type": "stream",
          "text": [
            "Лучший результат с убывающими весами:  0.9254163649529327\n"
          ],
          "name": "stdout"
        },
        {
          "output_type": "display_data",
          "data": {
            "image/png": "[encoded data removed]",
            "text/plain": [
              "<Figure size 432x288 with 1 Axes>"
            ]
          },
          "metadata": {
            "tags": [],
            "needs_background": "light"
          }
        }
      ]
    },
    {
      "cell_type": "code",
      "metadata": {
        "id": "q8sTnC1dKc0G",
        "outputId": "478eeb50-978d-4e5c-90e1-d416146366e3",
        "colab": {
          "base_uri": "https://localhost:8080/",
          "height": 283
        }
      },
      "source": [
        "x=[]\n",
        "for i in y:\n",
        "  model = KNeighborsClassifier(n_neighbors=i, weights=func, metric= 'manhattan')\n",
        "  _ = model.fit(X_train, y_train)\n",
        "  x.append(model.score(X_test, y_test))\n",
        "\n",
        "plt.plot(y,x)\n",
        "print('Лучший результат с убывающими весами с лучшей получившейся на прошлом этапе метрикой manhattan: ',max(x))"
      ],
      "execution_count": 87,
      "outputs": [
        {
          "output_type": "stream",
          "text": [
            "Лучший результат с убывающими весами с лучшей получившейся на прошлом этапе метрикой manhattan:  0.9181752353367125\n"
          ],
          "name": "stdout"
        },
        {
          "output_type": "display_data",
          "data": {
            "image/png": "[encoded data removed]",
            "text/plain": [
              "<Figure size 432x288 with 1 Axes>"
            ]
          },
          "metadata": {
            "tags": [],
            "needs_background": "light"
          }
        }
      ]
    },
    {
      "cell_type": "markdown",
      "metadata": {
        "id": "AmFY6sCSsQ1x"
      },
      "source": [
        "\n",
        "Метод окна Парзена"
      ]
    },
    {
      "cell_type": "code",
      "metadata": {
        "id": "QQkwUHaGrofC"
      },
      "source": [
        "def K(distance, h=0.05):\n",
        "    ret = np.array(distance)/h\n",
        "    return (1 - ret**2) * (np.abs(ret) <= 1)"
      ],
      "execution_count": 88,
      "outputs": []
    },
    {
      "cell_type": "code",
      "metadata": {
        "id": "dkqjS93isahb",
        "outputId": "fa5fad31-d44d-448c-a252-f75a2d543676",
        "colab": {
          "base_uri": "https://localhost:8080/",
          "height": 300
        }
      },
      "source": [
        "x=[]\n",
        "for i, h in enumerate(np.arange(0.1,10,0.1)):\n",
        "    model = KNeighborsClassifier(n_neighbors=len(X_train),\n",
        "                                 weights=lambda x: K(x, h=h))\n",
        "    model.fit(X_train, y_train)\n",
        "    x.append(model.score(X_test, y_test))\n",
        "y=np.arange(0.1,10,0.1)  \n",
        "print('Лучший результат: ',max(x))\n",
        "plt.plot(y,x)  "
      ],
      "execution_count": 89,
      "outputs": [
        {
          "output_type": "stream",
          "text": [
            "Лучший результат:  0.8522809558291093\n"
          ],
          "name": "stdout"
        },
        {
          "output_type": "execute_result",
          "data": {
            "text/plain": [
              "[<matplotlib.lines.Line2D at 0x7f3ac8e5cb00>]"
            ]
          },
          "metadata": {
            "tags": []
          },
          "execution_count": 89
        },
        {
          "output_type": "display_data",
          "data": {
            "image/png": "[encoded data removed]",
            "text/plain": [
              "<Figure size 432x288 with 1 Axes>"
            ]
          },
          "metadata": {
            "tags": [],
            "needs_background": "light"
          }
        }
      ]
    },
    {
      "cell_type": "markdown",
      "metadata": {
        "id": "PFNqKfnEOXr6"
      },
      "source": [
        "Выводы: При переборе различных гиперпараметров вышло примерно одинаково хорошее качество, вероятно это можно объяснить тем, что оба подхода одинаково сложны в вычислении и хорошо подходят для данной задачи. Самое плохое качество, даже при стандартных параметрах, не опускалось ниже 85%, но вероятно это так же связанно с тем что данные были изначально хорошо подготовлены для данных подходов, подозреваю что с реальными данным “с улицы” качество бы не было столь высоким. \n",
        "Единственная проблемма встреченная мной это высокое пространство и непонятные названия признаков, что крайне усложняет процесс визуального анализа, конечно можно было бы попарно построить все 1653 проекции и выбрать более подходящие, но исходя из метода главных компонент, самыми весомыми признаками являются 1-4, а они визуально неразделимы, так что я решил не продолжать эксперименты с построениями."
      ]
    },
    {
      "cell_type": "code",
      "metadata": {
        "id": "J08IrIoedUb0"
      },
      "source": [
        ""
      ],
      "execution_count": null,
      "outputs": []
    }
  ]
}